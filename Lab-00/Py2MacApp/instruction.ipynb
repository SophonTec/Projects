{
 "cells": [
  {
   "cell_type": "markdown",
   "metadata": {},
   "source": [
    "# Transform python code into Application Software\n",
    "\n",
    "We already have our python program and it runs well on my local computer within the python running environment. How could I share it with my friends? Could I turn it into a MacOS app?"
   ]
  },
  {
   "cell_type": "markdown",
   "metadata": {},
   "source": [
    "## Python into MacOS app\n",
    "\n",
    "1. install `pyinstaller` package"
   ]
  },
  {
   "cell_type": "code",
   "execution_count": 14,
   "metadata": {
    "vscode": {
     "languageId": "shellscript"
    }
   },
   "outputs": [
    {
     "name": "stdout",
     "output_type": "stream",
     "text": [
      "Looking in indexes: https://mirrors.cloud.tencent.com/pypi/simple\n",
      "Collecting pyinstaller\n",
      "  Downloading https://mirrors.cloud.tencent.com/pypi/packages/d8/6f/70aed930ec50eda9f6f7c68aaadd6f9e652a22271a1dde24cf53b0bb0978/pyinstaller-6.9.0-py3-none-manylinux2014_x86_64.whl (684 kB)\n",
      "\u001b[2K     \u001b[38;2;114;156;31m━━━━━━━━━━━━━━━━━━━━━━━━━━━━━━━━━━━━━━\u001b[0m \u001b[32m685.0/685.0 kB\u001b[0m \u001b[31m11.1 MB/s\u001b[0m eta \u001b[36m0:00:00\u001b[0m MB/s\u001b[0m eta \u001b[36m0:00:01\u001b[0m\n",
      "\u001b[?25hRequirement already satisfied: setuptools>=42.0.0 in /opt/anaconda3/envs/pygame/lib/python3.11/site-packages (from pyinstaller) (69.5.1)\n",
      "Requirement already satisfied: altgraph in /opt/anaconda3/envs/pygame/lib/python3.11/site-packages (from pyinstaller) (0.17.4)\n",
      "Collecting pyinstaller-hooks-contrib>=2024.7 (from pyinstaller)\n",
      "  Downloading https://mirrors.cloud.tencent.com/pypi/packages/43/e4/a6db28bfe652c1e3f11c72fdb6d5b4e3316705b19492444f097747953a3e/pyinstaller_hooks_contrib-2024.7-py2.py3-none-any.whl (341 kB)\n",
      "\u001b[2K     \u001b[38;2;114;156;31m━━━━━━━━━━━━━━━━━━━━━━━━━━━━━━━━━━━━━━\u001b[0m \u001b[32m341.3/341.3 kB\u001b[0m \u001b[31m11.1 MB/s\u001b[0m eta \u001b[36m0:00:00\u001b[0m\n",
      "\u001b[?25hRequirement already satisfied: packaging>=22.0 in /opt/anaconda3/envs/pygame/lib/python3.11/site-packages (from pyinstaller) (24.1)\n",
      "Installing collected packages: pyinstaller-hooks-contrib, pyinstaller\n",
      "Successfully installed pyinstaller-6.9.0 pyinstaller-hooks-contrib-2024.7\n",
      "Note: you may need to restart the kernel to use updated packages.\n"
     ]
    }
   ],
   "source": [
    "pip install pyinstaller"
   ]
  },
  {
   "cell_type": "markdown",
   "metadata": {},
   "source": [
    "2. Prepare your Python script\n",
    "Here we use the `dino_leaderboard.py` and `goban.py` as the source code of each app. dino python also has the `Assets` data folder and `top_score.json`."
   ]
  },
  {
   "cell_type": "markdown",
   "metadata": {},
   "source": [
    "### Goban App\n",
    "\n",
    "Run the following command to create a standalone macOS application for `goban.py`."
   ]
  },
  {
   "cell_type": "code",
   "execution_count": 16,
   "metadata": {
    "vscode": {
     "languageId": "shellscript"
    }
   },
   "outputs": [
    {
     "name": "stdout",
     "output_type": "stream",
     "text": [
      "265 INFO: PyInstaller: 6.9.0, contrib hooks: 2024.7\n",
      "265 INFO: Python: 3.11.9 (conda)\n",
      "268 INFO: Platform: Linux-6.5.0-41-generic-x86_64-with-glibc2.35\n",
      "268 INFO: Python environment: /opt/anaconda3/envs/pygame\n",
      "269 INFO: wrote /media/sophon/nvme1/2_AI_projects/projects/AI-Labs/Lab-00/Py2MacApp/goban.spec\n",
      "272 INFO: Module search paths (PYTHONPATH):\n",
      "['/opt/anaconda3/envs/pygame/lib/python311.zip',\n",
      " '/opt/anaconda3/envs/pygame/lib/python3.11',\n",
      " '/opt/anaconda3/envs/pygame/lib/python3.11/lib-dynload',\n",
      " '/home/sophon/.local/lib/python3.11/site-packages',\n",
      " '/media/sophon/nvme1/2_AI_projects/projects/RG-line-detection/3rd-party/Seg-Track/GroundingDINO',\n",
      " '/opt/anaconda3/envs/pygame/lib/python3.11/site-packages',\n",
      " '/media/sophon/nvme1/2_AI_projects/projects/AI-Labs/Lab-00/Py2MacApp']\n",
      "pygame 2.6.0 (SDL 2.28.4, Python 3.11.9)\n",
      "Hello from the pygame community. https://www.pygame.org/contribute.html\n",
      "456 INFO: checking Analysis\n",
      "456 INFO: Building Analysis because Analysis-00.toc is non existent\n",
      "456 INFO: Running Analysis Analysis-00.toc\n",
      "456 INFO: Target bytecode optimization level: 0\n",
      "456 INFO: Initializing module dependency graph...\n",
      "457 INFO: Caching module graph hooks...\n",
      "462 INFO: Analyzing base_library.zip ...\n",
      "1168 INFO: Loading module hook 'hook-encodings.py' from '/opt/anaconda3/envs/pygame/lib/python3.11/site-packages/PyInstaller/hooks'...\n",
      "1592 INFO: Loading module hook 'hook-heapq.py' from '/opt/anaconda3/envs/pygame/lib/python3.11/site-packages/PyInstaller/hooks'...\n",
      "1884 INFO: Loading module hook 'hook-pickle.py' from '/opt/anaconda3/envs/pygame/lib/python3.11/site-packages/PyInstaller/hooks'...\n",
      "3344 INFO: Caching module dependency graph...\n",
      "3393 INFO: Looking for Python shared library...\n",
      "3407 INFO: Using Python shared library: /opt/anaconda3/envs/pygame/lib/libpython3.11.so.1.0\n",
      "3407 INFO: Analyzing /media/sophon/nvme1/2_AI_projects/projects/AI-Labs/Lab-00/Py2MacApp/goban.py\n",
      "3420 INFO: Loading module hook 'hook-pygame.py' from '/opt/anaconda3/envs/pygame/lib/python3.11/site-packages/pygame/__pyinstaller'...\n",
      "pygame 2.6.0 (SDL 2.28.4, Python 3.11.9)\n",
      "Hello from the pygame community. https://www.pygame.org/contribute.html\n",
      "3504 INFO: Loading module hook 'hook-numpy.py' from '/opt/anaconda3/envs/pygame/lib/python3.11/site-packages/numpy/_pyinstaller'...\n",
      "3528 WARNING: Conda distribution 'numpy', dependency of 'numpy', was not found. If you installed this distribution with pip then you may ignore this warning.\n",
      "3673 INFO: Loading module hook 'hook-platform.py' from '/opt/anaconda3/envs/pygame/lib/python3.11/site-packages/PyInstaller/hooks'...\n",
      "3796 INFO: Loading module hook 'hook-sysconfig.py' from '/opt/anaconda3/envs/pygame/lib/python3.11/site-packages/PyInstaller/hooks'...\n",
      "4441 INFO: Loading module hook 'hook-difflib.py' from '/opt/anaconda3/envs/pygame/lib/python3.11/site-packages/PyInstaller/hooks'...\n",
      "4547 INFO: Loading module hook 'hook-multiprocessing.util.py' from '/opt/anaconda3/envs/pygame/lib/python3.11/site-packages/PyInstaller/hooks'...\n",
      "4593 INFO: Loading module hook 'hook-xml.py' from '/opt/anaconda3/envs/pygame/lib/python3.11/site-packages/PyInstaller/hooks'...\n",
      "5173 INFO: Loading module hook 'hook-psutil.py' from '/opt/anaconda3/envs/pygame/lib/python3.11/site-packages/_pyinstaller_hooks_contrib/hooks/stdhooks'...\n",
      "5683 INFO: Loading module hook 'hook-pkg_resources.py' from '/opt/anaconda3/envs/pygame/lib/python3.11/site-packages/PyInstaller/hooks'...\n",
      "6323 INFO: Processing module hooks...\n",
      "6724 INFO: Loading module hook 'hook-platformdirs.py' from '/opt/anaconda3/envs/pygame/lib/python3.11/site-packages/_pyinstaller_hooks_contrib/hooks/stdhooks'...\n",
      "6744 INFO: Loading module hook 'hook-packaging.py' from '/opt/anaconda3/envs/pygame/lib/python3.11/site-packages/PyInstaller/hooks'...\n",
      "6809 INFO: Performing binary vs. data reclassification (4 entries)\n",
      "6887 INFO: Looking for ctypes DLLs\n",
      "6945 INFO: Analyzing run-time hooks ...\n",
      "6948 INFO: Including run-time hook '/opt/anaconda3/envs/pygame/lib/python3.11/site-packages/PyInstaller/hooks/rthooks/pyi_rth_inspect.py'\n",
      "6949 INFO: Including run-time hook '/opt/anaconda3/envs/pygame/lib/python3.11/site-packages/PyInstaller/hooks/rthooks/pyi_rth_pkgutil.py'\n",
      "6950 INFO: Processing pre-find module path hook _pyi_rth_utils from '/opt/anaconda3/envs/pygame/lib/python3.11/site-packages/PyInstaller/hooks/pre_find_module_path/hook-_pyi_rth_utils.py'.\n",
      "6951 INFO: Loading module hook 'hook-_pyi_rth_utils.py' from '/opt/anaconda3/envs/pygame/lib/python3.11/site-packages/PyInstaller/hooks'...\n",
      "6951 INFO: Including run-time hook '/opt/anaconda3/envs/pygame/lib/python3.11/site-packages/PyInstaller/hooks/rthooks/pyi_rth_multiprocessing.py'\n",
      "6953 INFO: Including run-time hook '/opt/anaconda3/envs/pygame/lib/python3.11/site-packages/PyInstaller/hooks/rthooks/pyi_rth_pkgres.py'\n",
      "6960 INFO: Looking for dynamic libraries\n",
      "8561 INFO: Warnings written to /media/sophon/nvme1/2_AI_projects/projects/AI-Labs/Lab-00/Py2MacApp/build/goban/warn-goban.txt\n",
      "8578 INFO: Graph cross-reference written to /media/sophon/nvme1/2_AI_projects/projects/AI-Labs/Lab-00/Py2MacApp/build/goban/xref-goban.html\n",
      "8588 INFO: checking PYZ\n",
      "8588 INFO: Building PYZ because PYZ-00.toc is non existent\n",
      "8589 INFO: Building PYZ (ZlibArchive) /media/sophon/nvme1/2_AI_projects/projects/AI-Labs/Lab-00/Py2MacApp/build/goban/PYZ-00.pyz\n",
      "9027 INFO: Building PYZ (ZlibArchive) /media/sophon/nvme1/2_AI_projects/projects/AI-Labs/Lab-00/Py2MacApp/build/goban/PYZ-00.pyz completed successfully.\n",
      "9045 INFO: checking PKG\n",
      "9045 INFO: Building PKG because PKG-00.toc is non existent\n",
      "9045 INFO: Building PKG (CArchive) goban.pkg\n",
      "22599 INFO: Building PKG (CArchive) goban.pkg completed successfully.\n",
      "22601 INFO: Bootloader /opt/anaconda3/envs/pygame/lib/python3.11/site-packages/PyInstaller/bootloader/Linux-64bit-intel/run\n",
      "22601 INFO: checking EXE\n",
      "22601 INFO: Building EXE because EXE-00.toc is non existent\n",
      "22601 INFO: Building EXE from EXE-00.toc\n",
      "22601 INFO: Copying bootloader EXE to /media/sophon/nvme1/2_AI_projects/projects/AI-Labs/Lab-00/Py2MacApp/dist/goban\n",
      "22601 INFO: Appending PKG archive to custom ELF section in EXE\n",
      "22778 INFO: Building EXE from EXE-00.toc completed successfully.\n"
     ]
    }
   ],
   "source": [
    "!pyinstaller --onefile --windowed goban.py"
   ]
  },
  {
   "cell_type": "markdown",
   "metadata": {},
   "source": [
    "Now we see that, the current folder has several new folders:\n",
    "1. `build`: includes all files for the building process of app\n",
    "2. `dist`: distribution of the application (run this on a mac!)\n",
    "3. `goban.spec`: the specs for the goban program."
   ]
  },
  {
   "cell_type": "markdown",
   "metadata": {},
   "source": [
    "### DinoGame App\n",
    "\n",
    "Similarly, we can build the **DinoGame**."
   ]
  },
  {
   "cell_type": "code",
   "execution_count": 19,
   "metadata": {
    "vscode": {
     "languageId": "shellscript"
    }
   },
   "outputs": [
    {
     "name": "stdout",
     "output_type": "stream",
     "text": [
      "250 INFO: PyInstaller: 6.9.0, contrib hooks: 2024.7\n",
      "250 INFO: Python: 3.11.9 (conda)\n",
      "254 INFO: Platform: Linux-6.5.0-41-generic-x86_64-with-glibc2.35\n",
      "254 INFO: Python environment: /opt/anaconda3/envs/pygame\n",
      "254 INFO: wrote /media/sophon/nvme1/2_AI_projects/projects/AI-Labs/Lab-00/Py2MacApp/dino_leaderboard.spec\n",
      "257 INFO: Module search paths (PYTHONPATH):\n",
      "['/opt/anaconda3/envs/pygame/lib/python311.zip',\n",
      " '/opt/anaconda3/envs/pygame/lib/python3.11',\n",
      " '/opt/anaconda3/envs/pygame/lib/python3.11/lib-dynload',\n",
      " '/home/sophon/.local/lib/python3.11/site-packages',\n",
      " '/media/sophon/nvme1/2_AI_projects/projects/RG-line-detection/3rd-party/Seg-Track/GroundingDINO',\n",
      " '/opt/anaconda3/envs/pygame/lib/python3.11/site-packages',\n",
      " '/media/sophon/nvme1/2_AI_projects/projects/AI-Labs/Lab-00/Py2MacApp']\n",
      "pygame 2.6.0 (SDL 2.28.4, Python 3.11.9)\n",
      "Hello from the pygame community. https://www.pygame.org/contribute.html\n",
      "446 INFO: Appending 'datas' from .spec\n",
      "447 INFO: checking Analysis\n",
      "452 INFO: Building because _input_datas changed\n",
      "452 INFO: Running Analysis Analysis-00.toc\n",
      "452 INFO: Target bytecode optimization level: 0\n",
      "452 INFO: Initializing module dependency graph...\n",
      "452 INFO: Caching module graph hooks...\n",
      "457 INFO: Analyzing base_library.zip ...\n",
      "1224 INFO: Loading module hook 'hook-encodings.py' from '/opt/anaconda3/envs/pygame/lib/python3.11/site-packages/PyInstaller/hooks'...\n",
      "1625 INFO: Loading module hook 'hook-heapq.py' from '/opt/anaconda3/envs/pygame/lib/python3.11/site-packages/PyInstaller/hooks'...\n",
      "1913 INFO: Loading module hook 'hook-pickle.py' from '/opt/anaconda3/envs/pygame/lib/python3.11/site-packages/PyInstaller/hooks'...\n",
      "3340 INFO: Caching module dependency graph...\n",
      "3388 INFO: Looking for Python shared library...\n",
      "3400 INFO: Using Python shared library: /opt/anaconda3/envs/pygame/lib/libpython3.11.so.1.0\n",
      "3401 INFO: Analyzing /media/sophon/nvme1/2_AI_projects/projects/AI-Labs/Lab-00/Py2MacApp/dino_leaderboard.py\n",
      "3430 INFO: Loading module hook 'hook-pygame.py' from '/opt/anaconda3/envs/pygame/lib/python3.11/site-packages/pygame/__pyinstaller'...\n",
      "pygame 2.6.0 (SDL 2.28.4, Python 3.11.9)\n",
      "Hello from the pygame community. https://www.pygame.org/contribute.html\n",
      "3499 INFO: Loading module hook 'hook-numpy.py' from '/opt/anaconda3/envs/pygame/lib/python3.11/site-packages/numpy/_pyinstaller'...\n",
      "3515 WARNING: Conda distribution 'numpy', dependency of 'numpy', was not found. If you installed this distribution with pip then you may ignore this warning.\n",
      "3688 INFO: Loading module hook 'hook-platform.py' from '/opt/anaconda3/envs/pygame/lib/python3.11/site-packages/PyInstaller/hooks'...\n",
      "3784 INFO: Loading module hook 'hook-sysconfig.py' from '/opt/anaconda3/envs/pygame/lib/python3.11/site-packages/PyInstaller/hooks'...\n",
      "4444 INFO: Loading module hook 'hook-difflib.py' from '/opt/anaconda3/envs/pygame/lib/python3.11/site-packages/PyInstaller/hooks'...\n",
      "4551 INFO: Loading module hook 'hook-multiprocessing.util.py' from '/opt/anaconda3/envs/pygame/lib/python3.11/site-packages/PyInstaller/hooks'...\n",
      "4597 INFO: Loading module hook 'hook-xml.py' from '/opt/anaconda3/envs/pygame/lib/python3.11/site-packages/PyInstaller/hooks'...\n",
      "5145 INFO: Loading module hook 'hook-psutil.py' from '/opt/anaconda3/envs/pygame/lib/python3.11/site-packages/_pyinstaller_hooks_contrib/hooks/stdhooks'...\n",
      "5693 INFO: Loading module hook 'hook-pkg_resources.py' from '/opt/anaconda3/envs/pygame/lib/python3.11/site-packages/PyInstaller/hooks'...\n",
      "6324 INFO: Processing module hooks...\n",
      "6691 INFO: Loading module hook 'hook-platformdirs.py' from '/opt/anaconda3/envs/pygame/lib/python3.11/site-packages/_pyinstaller_hooks_contrib/hooks/stdhooks'...\n",
      "6730 INFO: Loading module hook 'hook-packaging.py' from '/opt/anaconda3/envs/pygame/lib/python3.11/site-packages/PyInstaller/hooks'...\n",
      "6790 INFO: Performing binary vs. data reclassification (24 entries)\n",
      "6853 INFO: Looking for ctypes DLLs\n",
      "6913 INFO: Analyzing run-time hooks ...\n",
      "6915 INFO: Including run-time hook '/opt/anaconda3/envs/pygame/lib/python3.11/site-packages/PyInstaller/hooks/rthooks/pyi_rth_inspect.py'\n",
      "6917 INFO: Including run-time hook '/opt/anaconda3/envs/pygame/lib/python3.11/site-packages/PyInstaller/hooks/rthooks/pyi_rth_pkgutil.py'\n",
      "6918 INFO: Processing pre-find module path hook _pyi_rth_utils from '/opt/anaconda3/envs/pygame/lib/python3.11/site-packages/PyInstaller/hooks/pre_find_module_path/hook-_pyi_rth_utils.py'.\n",
      "6919 INFO: Loading module hook 'hook-_pyi_rth_utils.py' from '/opt/anaconda3/envs/pygame/lib/python3.11/site-packages/PyInstaller/hooks'...\n",
      "6919 INFO: Including run-time hook '/opt/anaconda3/envs/pygame/lib/python3.11/site-packages/PyInstaller/hooks/rthooks/pyi_rth_multiprocessing.py'\n",
      "6921 INFO: Including run-time hook '/opt/anaconda3/envs/pygame/lib/python3.11/site-packages/PyInstaller/hooks/rthooks/pyi_rth_pkgres.py'\n",
      "6928 INFO: Looking for dynamic libraries\n",
      "8529 INFO: Warnings written to /media/sophon/nvme1/2_AI_projects/projects/AI-Labs/Lab-00/Py2MacApp/build/dino_leaderboard/warn-dino_leaderboard.txt\n",
      "8546 INFO: Graph cross-reference written to /media/sophon/nvme1/2_AI_projects/projects/AI-Labs/Lab-00/Py2MacApp/build/dino_leaderboard/xref-dino_leaderboard.html\n",
      "8554 INFO: checking PYZ\n",
      "8569 INFO: checking PKG\n",
      "8571 INFO: Building because toc changed\n",
      "8571 INFO: Building PKG (CArchive) dino_leaderboard.pkg\n",
      "22168 INFO: Building PKG (CArchive) dino_leaderboard.pkg completed successfully.\n",
      "22171 INFO: Bootloader /opt/anaconda3/envs/pygame/lib/python3.11/site-packages/PyInstaller/bootloader/Linux-64bit-intel/run\n",
      "22171 INFO: checking EXE\n",
      "22172 INFO: Building because toc changed\n",
      "22172 INFO: Building EXE from EXE-00.toc\n",
      "22180 INFO: Copying bootloader EXE to /media/sophon/nvme1/2_AI_projects/projects/AI-Labs/Lab-00/Py2MacApp/dist/dino_leaderboard\n",
      "22180 INFO: Appending PKG archive to custom ELF section in EXE\n",
      "22351 INFO: Building EXE from EXE-00.toc completed successfully.\n"
     ]
    }
   ],
   "source": [
    "!pyinstaller --onefile --windowed \\\n",
    "             --add-data \"Assets:Assets\" \\\n",
    "             --add-data \"top_scores.json:.\" \\\n",
    "             dino_leaderboard.py"
   ]
  },
  {
   "cell_type": "markdown",
   "metadata": {},
   "source": [
    "## Python into Windows exe\n",
    "\n",
    "Based on your current system, you need a python in Windows environment to compile python into `.exe` file. If you are on Windows, no more problems! If you are on MacOX/Linux, you first need to install `Wine` which allows you to run Windowns application on MacOS/Linux."
   ]
  },
  {
   "cell_type": "code",
   "execution_count": null,
   "metadata": {
    "vscode": {
     "languageId": "shellscript"
    }
   },
   "outputs": [],
   "source": [
    "# on linux\n",
    "sudo apt update\n",
    "sudo apt install wine64\n",
    "\n",
    "# on mac\n",
    "brew tap homebrew/cask-versions\n",
    "brew install --cask wine-stable"
   ]
  },
  {
   "cell_type": "markdown",
   "metadata": {},
   "source": [
    "Now, install python for Windows using Wine. Follow the installation prompts."
   ]
  },
  {
   "cell_type": "code",
   "execution_count": 22,
   "metadata": {
    "vscode": {
     "languageId": "shellscript"
    }
   },
   "outputs": [
    {
     "name": "stdout",
     "output_type": "stream",
     "text": [
      "--2024-07-13 03:06:28--  https://www.python.org/ftp/python/3.11.9/python-3.11.9-amd64.exe\n",
      "Resolving www.python.org (www.python.org)... 151.101.76.223, 2a04:4e42:12::223\n",
      "Connecting to www.python.org (www.python.org)|151.101.76.223|:443... connected.\n",
      "HTTP request sent, awaiting response... 200 OK\n",
      "Length: 26216840 (25M) [application/octet-stream]\n",
      "Saving to: ‘python-3.11.9-amd64.exe’\n",
      "\n",
      "python-3.11.9-amd64 100%[===================>]  25.00M  10.1MB/s    in 2.5s    \n",
      "\n",
      "2024-07-13 03:06:31 (10.1 MB/s) - ‘python-3.11.9-amd64.exe’ saved [26216840/26216840]\n",
      "\n",
      "wine: created the configuration directory '/home/sophon/.wine'\n",
      "0048:err:ole:StdMarshalImpl_MarshalInterface Failed to create ifstub, hr 0x80004002\n",
      "0048:err:ole:CoMarshalInterface Failed to marshal the interface {6d5140c1-7436-11ce-8034-00aa006009fa}, hr 0x80004002\n",
      "0048:err:ole:apartment_get_local_server_stream Failed: 0x80004002\n",
      "0050:err:ole:StdMarshalImpl_MarshalInterface Failed to create ifstub, hr 0x80004002\n",
      "0050:err:ole:CoMarshalInterface Failed to marshal the interface {6d5140c1-7436-11ce-8034-00aa006009fa}, hr 0x80004002\n",
      "0050:err:ole:apartment_get_local_server_stream Failed: 0x80004002\n",
      "0050:err:ole:start_rpcss Failed to open RpcSs service\n",
      "0040:err:setupapi:SetupDefaultQueueCallbackW copy error 1812 L\"@wineusb.sys,-1\" -> L\"C:\\\\windows\\\\inf\\\\wineusb.inf\"\n",
      "Could not find Wine Gecko. HTML rendering will be disabled.\n",
      "Could not find Wine Gecko. HTML rendering will be disabled.\n",
      "wine: configuration in L\"/home/sophon/.wine\" has been updated.\n"
     ]
    }
   ],
   "source": [
    "!wget https://www.python.org/ftp/python/3.11.9/python-3.11.9-amd64.exe\n",
    "!wine python-3.11.9-amd64.exe"
   ]
  },
  {
   "cell_type": "markdown",
   "metadata": {},
   "source": [
    "Finally, we use wine to call the python in windows to install the `pyinstaller` package and create the `.exe` executable file."
   ]
  },
  {
   "cell_type": "code",
   "execution_count": null,
   "metadata": {
    "vscode": {
     "languageId": "shellscript"
    }
   },
   "outputs": [],
   "source": [
    "!wine ~/.wine/drive_c/users/sophon/Local\\ Settings/Application\\ Data/Programs/Python/Python311/python.exe -m pip install pyinstaller\n",
    "\n",
    "!wine ~/.wine/drive_c/users/sophon/Local\\ Settings/Application\\ Data/Programs/Python/Python311/Scripts/pyinstaller.exe --onefile --windowed goban.py\n",
    "\n",
    "!wine ~/.wine/drive_c/users/sophon/Local\\ Settings/Application\\ Data/Programs/Python/Python311/Scripts/pyinstaller.exe --onefile --windowed --add-data \"Assets:Assets\" --add-data \"top_scores.json:.\" dino_leaderboard.py"
   ]
  },
  {
   "cell_type": "markdown",
   "metadata": {},
   "source": [
    "## Epilog\n",
    "\n",
    "The cross-platform compiling is never an easy job to do. While `pyinstaller` package gives us the power to make MacOS app / Windows app (on Linux, MacOS, Windows), we still need to carefully test the app and `.exe` files as the output."
   ]
  }
 ],
 "metadata": {
  "kernelspec": {
   "display_name": "pygame",
   "language": "python",
   "name": "python3"
  },
  "language_info": {
   "codemirror_mode": {
    "name": "ipython",
    "version": 3
   },
   "file_extension": ".py",
   "mimetype": "text/x-python",
   "name": "python",
   "nbconvert_exporter": "python",
   "pygments_lexer": "ipython3",
   "version": "3.11.9"
  }
 },
 "nbformat": 4,
 "nbformat_minor": 2
}
