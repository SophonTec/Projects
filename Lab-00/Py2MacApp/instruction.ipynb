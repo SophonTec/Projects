{
 "cells": [
  {
   "cell_type": "markdown",
   "metadata": {},
   "source": [
    "# Transform python code into Application Software\n",
    "\n",
    "We already have our python program and it runs well on my local computer within the python running environment. How could I share it with my friends? Could I turn it into a MacOS app?"
   ]
  },
  {
   "cell_type": "markdown",
   "metadata": {},
   "source": [
    "## Python into MacOS app\n",
    "\n",
    "1. install `pyinstaller` package"
   ]
  },
  {
   "cell_type": "code",
   "execution_count": null,
   "metadata": {
    "vscode": {
     "languageId": "shellscript"
    }
   },
   "outputs": [],
   "source": [
    "pip install pyinstaller"
   ]
  },
  {
   "cell_type": "markdown",
   "metadata": {},
   "source": [
    "2. Prepare your Python script\n",
    "Here we use the `dino_leaderboard.py` and `goban.py` as the source code of each app. dino python also has the `Assets` data folder and `top_score.json`."
   ]
  },
  {
   "cell_type": "markdown",
   "metadata": {},
   "source": [
    "### Goban App\n",
    "\n",
    "Run the following command to create a standalone macOS application for `goban.py`."
   ]
  },
  {
   "cell_type": "code",
   "execution_count": null,
   "metadata": {
    "vscode": {
     "languageId": "shellscript"
    }
   },
   "outputs": [],
   "source": [
    "!pyinstaller --onefile --windowed \\\n",
    "             --icon=goban.icns \\\n",
    "             goban.py"
   ]
  },
  {
   "cell_type": "markdown",
   "metadata": {},
   "source": [
    "Now we see that, the current folder has several new folders:\n",
    "1. `build`: includes all files for the building process of app\n",
    "2. `dist`: distribution of the application (run this on a mac!)\n",
    "3. `goban.spec`: the specs for the goban program."
   ]
  },
  {
   "cell_type": "markdown",
   "metadata": {},
   "source": [
    "### DinoGame App\n",
    "\n",
    "Similarly, we can build the **DinoGame**. But Dino Game cites a folder `Assets` and a local file `top_scores.json`, we put all Dino Game files into a new folder called `dino/`"
   ]
  },
  {
   "cell_type": "code",
   "execution_count": null,
   "metadata": {
    "vscode": {
     "languageId": "shellscript"
    }
   },
   "outputs": [],
   "source": [
    "!pyinstaller --onedir --windowed \\\n",
    "             --add-data=./dino/Assets:Assets \\\n",
    "             --add-data=./dino/top_scores.json:. \\\n",
    "             --icon=./dino/dino-icon.icns \\\n",
    "             ./dino/dino_leaderboard.py"
   ]
  },
  {
   "cell_type": "markdown",
   "metadata": {},
   "source": [
    "Also you can write down the `pyinstaller` command line into a python code `setup_dino.py`, so you can run `pyinstaller` as a python script."
   ]
  },
  {
   "cell_type": "markdown",
   "metadata": {},
   "source": [
    "## Python into Windows exe\n",
    "\n",
    "Based on your current system, you need a python in Windows environment to compile python into `.exe` file. If you are on Windows, no more problems! If you are on MacOX/Linux, you first need to install `Wine` which allows you to run Windowns application on MacOS/Linux."
   ]
  },
  {
   "cell_type": "code",
   "execution_count": null,
   "metadata": {
    "vscode": {
     "languageId": "shellscript"
    }
   },
   "outputs": [],
   "source": [
    "# on linux\n",
    "sudo apt update\n",
    "sudo apt install wine64\n",
    "\n",
    "# on mac\n",
    "brew tap homebrew/cask-versions\n",
    "brew install --cask wine-stable"
   ]
  },
  {
   "cell_type": "markdown",
   "metadata": {},
   "source": [
    "Now, install python for Windows using Wine. Follow the installation prompts."
   ]
  },
  {
   "cell_type": "code",
   "execution_count": null,
   "metadata": {
    "vscode": {
     "languageId": "shellscript"
    }
   },
   "outputs": [],
   "source": [
    "!wget https://www.python.org/ftp/python/3.11.9/python-3.11.9-amd64.exe\n",
    "!wine python-3.11.9-amd64.exe"
   ]
  },
  {
   "cell_type": "markdown",
   "metadata": {},
   "source": [
    "Finally, we use wine to call the python in windows to install the `pyinstaller` package and create the `.exe` executable file."
   ]
  },
  {
   "cell_type": "code",
   "execution_count": null,
   "metadata": {
    "vscode": {
     "languageId": "shellscript"
    }
   },
   "outputs": [],
   "source": [
    "!wine ~/.wine/drive_c/users/sophon/Local\\ Settings/Application\\ Data/Programs/Python/Python311/python.exe -m pip install pyinstaller\n",
    "\n",
    "!wine ~/.wine/drive_c/users/sophon/Local\\ Settings/Application\\ Data/Programs/Python/Python311/Scripts/pyinstaller.exe --onefile --windowed goban.py\n",
    "\n",
    "!wine ~/.wine/drive_c/users/sophon/Local\\ Settings/Application\\ Data/Programs/Python/Python311/Scripts/pyinstaller.exe --onefile --windowed --add-data \"Assets:Assets\" --add-data \"top_scores.json:.\" dino_leaderboard.py"
   ]
  },
  {
   "cell_type": "markdown",
   "metadata": {},
   "source": [
    "## Epilog\n",
    "\n",
    "The cross-platform compiling is never an easy job to do. While `pyinstaller` package gives us the power to make MacOS app / Windows app (on Linux, MacOS, Windows), we still need to carefully test the app and `.exe` files as the output."
   ]
  }
 ],
 "metadata": {
  "kernelspec": {
   "display_name": "pygame",
   "language": "python",
   "name": "python3"
  },
  "language_info": {
   "codemirror_mode": {
    "name": "ipython",
    "version": 3
   },
   "file_extension": ".py",
   "mimetype": "text/x-python",
   "name": "python",
   "nbconvert_exporter": "python",
   "pygments_lexer": "ipython3",
   "version": "3.11.9"
  }
 },
 "nbformat": 4,
 "nbformat_minor": 2
}
